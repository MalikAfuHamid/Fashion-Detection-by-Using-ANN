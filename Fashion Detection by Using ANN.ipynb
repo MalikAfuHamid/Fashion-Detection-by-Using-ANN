{
 "cells": [
  {
   "cell_type": "code",
   "execution_count": 1,
   "id": "57ef96d6",
   "metadata": {},
   "outputs": [
    {
     "data": {
      "text/plain": [
       "device(type='cuda', index=0)"
      ]
     },
     "execution_count": 1,
     "metadata": {},
     "output_type": "execute_result"
    }
   ],
   "source": [
    "import torch\n",
    "from torch import nn, optim\n",
    "from jcopdl.callback import Callback, set_config\n",
    "\n",
    "device = torch.device(\"cuda:0\" if torch.cuda.is_available() else \"cpu\")\n",
    "device"
   ]
  },
  {
   "cell_type": "code",
   "execution_count": 2,
   "id": "4aabad30",
   "metadata": {},
   "outputs": [
    {
     "data": {
      "text/plain": [
       "'1.11.0'"
      ]
     },
     "execution_count": 2,
     "metadata": {},
     "output_type": "execute_result"
    }
   ],
   "source": [
    "torch.__version__"
   ]
  },
  {
   "cell_type": "markdown",
   "id": "d6770042",
   "metadata": {},
   "source": [
    "# 1. Dataset & Dataloader"
   ]
  },
  {
   "cell_type": "code",
   "execution_count": 3,
   "id": "fd087f5c",
   "metadata": {},
   "outputs": [],
   "source": [
    "from torchvision import datasets, transforms\n",
    "from torch.utils.data import DataLoader"
   ]
  },
  {
   "cell_type": "code",
   "execution_count": 4,
   "id": "1c5a3677",
   "metadata": {},
   "outputs": [],
   "source": [
    "#MENYIAPKAN DATA TRAIN DAN DATA TEST\n",
    "\n",
    "bs = 128 #jumlah batch_size (bs) pada minibatch nya\n",
    "\n",
    "transform = transforms.Compose([\n",
    "    transforms.Grayscale(),\n",
    "    transforms.ToTensor()\n",
    "])\n",
    "\n",
    "train_set = datasets.ImageFolder('data/train/', transform= transform)\n",
    "trainloader = DataLoader(train_set, batch_size= bs, shuffle=True)\n",
    "\n",
    "test_set = datasets.ImageFolder('data/test', transform=transform)\n",
    "testloader = DataLoader(test_set, batch_size= bs, shuffle=True)\n",
    "\n",
    "#Di sini data train dan data testnya dishuffle\n",
    "#Pada data test itu gak wajib dishuffle, tapi dalam hal ini mau dishuffle"
   ]
  },
  {
   "cell_type": "code",
   "execution_count": 5,
   "id": "e61862b8",
   "metadata": {},
   "outputs": [
    {
     "data": {
      "text/plain": [
       "torch.Size([128, 1, 28, 28])"
      ]
     },
     "execution_count": 5,
     "metadata": {},
     "output_type": "execute_result"
    }
   ],
   "source": [
    "feature, target = next(iter(trainloader))\n",
    "feature.shape"
   ]
  },
  {
   "cell_type": "code",
   "execution_count": 6,
   "id": "af636305",
   "metadata": {},
   "outputs": [
    {
     "data": {
      "text/plain": [
       "['Ankle boot',\n",
       " 'Bag',\n",
       " 'Coat',\n",
       " 'Dress',\n",
       " 'Pullover',\n",
       " 'Sandal',\n",
       " 'Shirt',\n",
       " 'Sneaker',\n",
       " 'T-shirt or Top',\n",
       " 'Trouser']"
      ]
     },
     "execution_count": 6,
     "metadata": {},
     "output_type": "execute_result"
    }
   ],
   "source": [
    "label2cat = train_set.classes\n",
    "label2cat"
   ]
  },
  {
   "cell_type": "markdown",
   "id": "abab96f7",
   "metadata": {},
   "source": [
    "# 2. Arsitektur & Config"
   ]
  },
  {
   "cell_type": "code",
   "execution_count": 7,
   "id": "76e98403",
   "metadata": {},
   "outputs": [],
   "source": [
    "from jcopdl.layers import linear_block"
   ]
  },
  {
   "cell_type": "markdown",
   "id": "6ff719d6",
   "metadata": {},
   "source": [
    "## 2.1 Arsitektur"
   ]
  },
  {
   "cell_type": "code",
   "execution_count": 8,
   "id": "f5f68912",
   "metadata": {},
   "outputs": [],
   "source": [
    "class FashionClassifier(nn.Module):\n",
    "    \n",
    "    def __init__(self, input_size, n1, n2, output_size, dropout = 0.2):\n",
    "        super().__init__()\n",
    "        \n",
    "        self.fc = nn.Sequential(\n",
    "                                nn.Flatten(),\n",
    "                                linear_block(input_size, n1, dropout=dropout),\n",
    "                                linear_block(n1, n2, dropout= dropout),\n",
    "                                linear_block(n2, output_size, activation='lsoftmax'\n",
    "                                )\n",
    "        )\n",
    "        \n",
    "        \n",
    "    def forward (self, x):\n",
    "        return self.fc(x)"
   ]
  },
  {
   "cell_type": "markdown",
   "id": "658d3158",
   "metadata": {},
   "source": [
    "## 2.2 Config"
   ]
  },
  {
   "cell_type": "code",
   "execution_count": 9,
   "id": "44ab14f5",
   "metadata": {},
   "outputs": [],
   "source": [
    "config = set_config({\n",
    "                    'input_size': 784,\n",
    "                    'n1': 256,\n",
    "                    'n2': 64,\n",
    "                    'output_size': len(train_set.classes),\n",
    "                    'dropout': 0.2  \n",
    "})"
   ]
  },
  {
   "cell_type": "markdown",
   "id": "4163a107",
   "metadata": {},
   "source": [
    "# 3. Training Preparation"
   ]
  },
  {
   "cell_type": "code",
   "execution_count": 10,
   "id": "6fd714a4",
   "metadata": {},
   "outputs": [],
   "source": [
    "from tqdm.auto import tqdm"
   ]
  },
  {
   "cell_type": "code",
   "execution_count": 11,
   "id": "69fd1fce",
   "metadata": {},
   "outputs": [],
   "source": [
    "model = FashionClassifier(config.input_size, config.input_size, config.n1, config.n2, config.dropout).to(device)\n",
    "criterion = nn.NLLLoss()\n",
    "optimizer = optim.AdamW(model.parameters(), lr= 0.001)\n",
    "callback = Callback(model, config, outdir='model')"
   ]
  },
  {
   "cell_type": "markdown",
   "id": "a1a4dbcd",
   "metadata": {},
   "source": [
    "# 4. Training Model"
   ]
  },
  {
   "cell_type": "code",
   "execution_count": 12,
   "id": "e5f5d59d",
   "metadata": {},
   "outputs": [],
   "source": [
    "#TRAINING MODEL\n",
    "\n",
    "def loop_fn(mode, dataset, dataloader, model, criterion, optimizer, device):\n",
    "    if mode == 'train':\n",
    "        model.train()\n",
    "    \n",
    "    elif mode == 'test':\n",
    "        model.eval()\n",
    "        \n",
    "    cost = correct = 0\n",
    "    for feature, target in tqdm(dataloader, desc = mode.title()):\n",
    "        feature, target = feature.to(device), target.to(device)\n",
    "        output = model(feature) #feedforward\n",
    "        loss = criterion(output, target) #hitung loss\n",
    "        \n",
    "        if mode == 'train':\n",
    "            loss.backward() #backpropagation \n",
    "            optimizer.step() #update weight\n",
    "            optimizer.zero_grad() #zero gradient\n",
    "            \n",
    "        cost += loss.item() * feature.shape[0]\n",
    "        correct += (output.argmax(1) == target).sum().item()\n",
    "        \n",
    "    cost = cost / len(dataset) #menghitung nilai cost (total loss) berdasarkan cost yang didapatkan terhadap total (len) datasetnya (train_set dan test_set) yang ada\n",
    "    acc = correct / len (dataset) #menghitung 'accuracy (acc)' berdasarkan prediksi yang benar (Correct) terhadap total (len) datasetnya (train_set dan test_set) yang ada\n",
    "    \n",
    "    return cost, acc"
   ]
  },
  {
   "cell_type": "code",
   "execution_count": 13,
   "id": "0d0d2ded",
   "metadata": {},
   "outputs": [
    {
     "data": {
      "application/vnd.jupyter.widget-view+json": {
       "model_id": "f14492fdf161476fa14896a13f4a0902",
       "version_major": 2,
       "version_minor": 0
      },
      "text/plain": [
       "Train:   0%|          | 0/313 [00:00<?, ?it/s]"
      ]
     },
     "metadata": {},
     "output_type": "display_data"
    },
    {
     "data": {
      "application/vnd.jupyter.widget-view+json": {
       "model_id": "90e8fb5509aa4a74b4dcbce5df603574",
       "version_major": 2,
       "version_minor": 0
      },
      "text/plain": [
       "Test:   0%|          | 0/157 [00:00<?, ?it/s]"
      ]
     },
     "metadata": {},
     "output_type": "display_data"
    },
    {
     "name": "stdout",
     "output_type": "stream",
     "text": [
      "\n",
      "Epoch     1\n",
      "Train_cost  = 0.6556 | Test_cost  = 0.4507 | Train_score = 0.7723 | Test_score = 0.8380 |\n"
     ]
    },
    {
     "data": {
      "application/vnd.jupyter.widget-view+json": {
       "model_id": "0b2a37631aa94ad29731e96e06eb898a",
       "version_major": 2,
       "version_minor": 0
      },
      "text/plain": [
       "Train:   0%|          | 0/313 [00:00<?, ?it/s]"
      ]
     },
     "metadata": {},
     "output_type": "display_data"
    },
    {
     "data": {
      "application/vnd.jupyter.widget-view+json": {
       "model_id": "bcf9473db6f44ea2bad6cf2b5eb7de80",
       "version_major": 2,
       "version_minor": 0
      },
      "text/plain": [
       "Test:   0%|          | 0/157 [00:00<?, ?it/s]"
      ]
     },
     "metadata": {},
     "output_type": "display_data"
    },
    {
     "name": "stdout",
     "output_type": "stream",
     "text": [
      "\n",
      "Epoch     2\n",
      "Train_cost  = 0.4284 | Test_cost  = 0.3980 | Train_score = 0.8453 | Test_score = 0.8513 |\n"
     ]
    },
    {
     "data": {
      "application/vnd.jupyter.widget-view+json": {
       "model_id": "42ecf17aba6e4bb6b17e7b35600e9032",
       "version_major": 2,
       "version_minor": 0
      },
      "text/plain": [
       "Train:   0%|          | 0/313 [00:00<?, ?it/s]"
      ]
     },
     "metadata": {},
     "output_type": "display_data"
    },
    {
     "data": {
      "application/vnd.jupyter.widget-view+json": {
       "model_id": "31281f599147405993ad32162cecb142",
       "version_major": 2,
       "version_minor": 0
      },
      "text/plain": [
       "Test:   0%|          | 0/157 [00:00<?, ?it/s]"
      ]
     },
     "metadata": {},
     "output_type": "display_data"
    },
    {
     "name": "stdout",
     "output_type": "stream",
     "text": [
      "\n",
      "Epoch     3\n",
      "Train_cost  = 0.3823 | Test_cost  = 0.3762 | Train_score = 0.8598 | Test_score = 0.8642 |\n"
     ]
    },
    {
     "data": {
      "application/vnd.jupyter.widget-view+json": {
       "model_id": "3710f96d2d884c62a1a66bd525b48800",
       "version_major": 2,
       "version_minor": 0
      },
      "text/plain": [
       "Train:   0%|          | 0/313 [00:00<?, ?it/s]"
      ]
     },
     "metadata": {},
     "output_type": "display_data"
    },
    {
     "data": {
      "application/vnd.jupyter.widget-view+json": {
       "model_id": "a67ff49d9a7348d0ac3c8796fb676052",
       "version_major": 2,
       "version_minor": 0
      },
      "text/plain": [
       "Test:   0%|          | 0/157 [00:00<?, ?it/s]"
      ]
     },
     "metadata": {},
     "output_type": "display_data"
    },
    {
     "name": "stdout",
     "output_type": "stream",
     "text": [
      "\n",
      "Epoch     4\n",
      "Train_cost  = 0.3611 | Test_cost  = 0.3514 | Train_score = 0.8680 | Test_score = 0.8698 |\n"
     ]
    },
    {
     "data": {
      "application/vnd.jupyter.widget-view+json": {
       "model_id": "d30fad1d4305498a9603b9157b028422",
       "version_major": 2,
       "version_minor": 0
      },
      "text/plain": [
       "Train:   0%|          | 0/313 [00:00<?, ?it/s]"
      ]
     },
     "metadata": {},
     "output_type": "display_data"
    },
    {
     "data": {
      "application/vnd.jupyter.widget-view+json": {
       "model_id": "28b8cbda39c4448a816ff64925a20c22",
       "version_major": 2,
       "version_minor": 0
      },
      "text/plain": [
       "Test:   0%|          | 0/157 [00:00<?, ?it/s]"
      ]
     },
     "metadata": {},
     "output_type": "display_data"
    },
    {
     "name": "stdout",
     "output_type": "stream",
     "text": [
      "\n",
      "Epoch     5\n",
      "Train_cost  = 0.3356 | Test_cost  = 0.3426 | Train_score = 0.8778 | Test_score = 0.8734 |\n"
     ]
    },
    {
     "data": {
      "application/vnd.jupyter.widget-view+json": {
       "model_id": "f2a4b819cdb54c6187fe436584956b07",
       "version_major": 2,
       "version_minor": 0
      },
      "text/plain": [
       "Train:   0%|          | 0/313 [00:00<?, ?it/s]"
      ]
     },
     "metadata": {},
     "output_type": "display_data"
    },
    {
     "data": {
      "application/vnd.jupyter.widget-view+json": {
       "model_id": "6980861f27c24ee08cb8ce551550f934",
       "version_major": 2,
       "version_minor": 0
      },
      "text/plain": [
       "Test:   0%|          | 0/157 [00:00<?, ?it/s]"
      ]
     },
     "metadata": {},
     "output_type": "display_data"
    },
    {
     "name": "stdout",
     "output_type": "stream",
     "text": [
      "\n",
      "Epoch     6\n",
      "Train_cost  = 0.3171 | Test_cost  = 0.3313 | Train_score = 0.8835 | Test_score = 0.8768 |\n"
     ]
    },
    {
     "data": {
      "application/vnd.jupyter.widget-view+json": {
       "model_id": "36d54790869446a08d773914d5b77a01",
       "version_major": 2,
       "version_minor": 0
      },
      "text/plain": [
       "Train:   0%|          | 0/313 [00:00<?, ?it/s]"
      ]
     },
     "metadata": {},
     "output_type": "display_data"
    },
    {
     "data": {
      "application/vnd.jupyter.widget-view+json": {
       "model_id": "fd99daf2e2e7414480a37d3941501cbf",
       "version_major": 2,
       "version_minor": 0
      },
      "text/plain": [
       "Test:   0%|          | 0/157 [00:00<?, ?it/s]"
      ]
     },
     "metadata": {},
     "output_type": "display_data"
    },
    {
     "name": "stdout",
     "output_type": "stream",
     "text": [
      "\n",
      "Epoch     7\n",
      "Train_cost  = 0.3105 | Test_cost  = 0.3363 | Train_score = 0.8849 | Test_score = 0.8769 |\n"
     ]
    },
    {
     "data": {
      "application/vnd.jupyter.widget-view+json": {
       "model_id": "33d9e1a2cf0844679dc8a1d58c5850a2",
       "version_major": 2,
       "version_minor": 0
      },
      "text/plain": [
       "Train:   0%|          | 0/313 [00:00<?, ?it/s]"
      ]
     },
     "metadata": {},
     "output_type": "display_data"
    },
    {
     "data": {
      "application/vnd.jupyter.widget-view+json": {
       "model_id": "5d0363fcb85a459d85bf0f7a17bf4426",
       "version_major": 2,
       "version_minor": 0
      },
      "text/plain": [
       "Test:   0%|          | 0/157 [00:00<?, ?it/s]"
      ]
     },
     "metadata": {},
     "output_type": "display_data"
    },
    {
     "name": "stdout",
     "output_type": "stream",
     "text": [
      "\n",
      "Epoch     8\n",
      "Train_cost  = 0.2959 | Test_cost  = 0.3317 | Train_score = 0.8904 | Test_score = 0.8791 |\n"
     ]
    },
    {
     "data": {
      "application/vnd.jupyter.widget-view+json": {
       "model_id": "85cf0b95af6246d6bfe9f7b1055185cb",
       "version_major": 2,
       "version_minor": 0
      },
      "text/plain": [
       "Train:   0%|          | 0/313 [00:00<?, ?it/s]"
      ]
     },
     "metadata": {},
     "output_type": "display_data"
    },
    {
     "data": {
      "application/vnd.jupyter.widget-view+json": {
       "model_id": "3fa135c626c44ebdb4eca98b900b5633",
       "version_major": 2,
       "version_minor": 0
      },
      "text/plain": [
       "Test:   0%|          | 0/157 [00:00<?, ?it/s]"
      ]
     },
     "metadata": {},
     "output_type": "display_data"
    },
    {
     "name": "stdout",
     "output_type": "stream",
     "text": [
      "\n",
      "Epoch     9\n",
      "Train_cost  = 0.2883 | Test_cost  = 0.3476 | Train_score = 0.8940 | Test_score = 0.8730 |\n",
      "\u001b[31m==> EarlyStop patience =  1 | Best test_score: 0.8791\u001b[0m\n"
     ]
    },
    {
     "data": {
      "application/vnd.jupyter.widget-view+json": {
       "model_id": "5f0e5f8fce5445c88fec58795ca720f6",
       "version_major": 2,
       "version_minor": 0
      },
      "text/plain": [
       "Train:   0%|          | 0/313 [00:00<?, ?it/s]"
      ]
     },
     "metadata": {},
     "output_type": "display_data"
    },
    {
     "data": {
      "application/vnd.jupyter.widget-view+json": {
       "model_id": "20a072db2f6744d4b813f4821d54d49d",
       "version_major": 2,
       "version_minor": 0
      },
      "text/plain": [
       "Test:   0%|          | 0/157 [00:00<?, ?it/s]"
      ]
     },
     "metadata": {},
     "output_type": "display_data"
    },
    {
     "name": "stdout",
     "output_type": "stream",
     "text": [
      "\n",
      "Epoch    10\n",
      "Train_cost  = 0.2818 | Test_cost  = 0.3142 | Train_score = 0.8962 | Test_score = 0.8858 |\n"
     ]
    },
    {
     "data": {
      "application/vnd.jupyter.widget-view+json": {
       "model_id": "cd84e2c4d0f4437ab72ebdbd78bc7fa7",
       "version_major": 2,
       "version_minor": 0
      },
      "text/plain": [
       "Train:   0%|          | 0/313 [00:00<?, ?it/s]"
      ]
     },
     "metadata": {},
     "output_type": "display_data"
    },
    {
     "data": {
      "application/vnd.jupyter.widget-view+json": {
       "model_id": "6d0abb60e8ed4f66b5fa8761db9c20b7",
       "version_major": 2,
       "version_minor": 0
      },
      "text/plain": [
       "Test:   0%|          | 0/157 [00:00<?, ?it/s]"
      ]
     },
     "metadata": {},
     "output_type": "display_data"
    },
    {
     "name": "stdout",
     "output_type": "stream",
     "text": [
      "\n",
      "Epoch    11\n",
      "Train_cost  = 0.2705 | Test_cost  = 0.3164 | Train_score = 0.8999 | Test_score = 0.8837 |\n",
      "\u001b[31m==> EarlyStop patience =  1 | Best test_score: 0.8858\u001b[0m\n"
     ]
    },
    {
     "data": {
      "application/vnd.jupyter.widget-view+json": {
       "model_id": "79a15b6284324c59bab6040e5d38b627",
       "version_major": 2,
       "version_minor": 0
      },
      "text/plain": [
       "Train:   0%|          | 0/313 [00:00<?, ?it/s]"
      ]
     },
     "metadata": {},
     "output_type": "display_data"
    },
    {
     "data": {
      "application/vnd.jupyter.widget-view+json": {
       "model_id": "457d3b75f0fd42c28233ff8edba90d4a",
       "version_major": 2,
       "version_minor": 0
      },
      "text/plain": [
       "Test:   0%|          | 0/157 [00:00<?, ?it/s]"
      ]
     },
     "metadata": {},
     "output_type": "display_data"
    },
    {
     "name": "stdout",
     "output_type": "stream",
     "text": [
      "\n",
      "Epoch    12\n",
      "Train_cost  = 0.2624 | Test_cost  = 0.3226 | Train_score = 0.9019 | Test_score = 0.8858 |\n",
      "\u001b[31m==> EarlyStop patience =  2 | Best test_score: 0.8858\u001b[0m\n"
     ]
    },
    {
     "data": {
      "application/vnd.jupyter.widget-view+json": {
       "model_id": "19036ba8c5444cdfa5b2527403030865",
       "version_major": 2,
       "version_minor": 0
      },
      "text/plain": [
       "Train:   0%|          | 0/313 [00:00<?, ?it/s]"
      ]
     },
     "metadata": {},
     "output_type": "display_data"
    },
    {
     "data": {
      "application/vnd.jupyter.widget-view+json": {
       "model_id": "d517f401040f4a6facd7b96f3365b71f",
       "version_major": 2,
       "version_minor": 0
      },
      "text/plain": [
       "Test:   0%|          | 0/157 [00:00<?, ?it/s]"
      ]
     },
     "metadata": {},
     "output_type": "display_data"
    },
    {
     "name": "stdout",
     "output_type": "stream",
     "text": [
      "\n",
      "Epoch    13\n",
      "Train_cost  = 0.2571 | Test_cost  = 0.3161 | Train_score = 0.9044 | Test_score = 0.8861 |\n"
     ]
    },
    {
     "data": {
      "application/vnd.jupyter.widget-view+json": {
       "model_id": "ab37cf822c2a4294840a40919d1cdfda",
       "version_major": 2,
       "version_minor": 0
      },
      "text/plain": [
       "Train:   0%|          | 0/313 [00:00<?, ?it/s]"
      ]
     },
     "metadata": {},
     "output_type": "display_data"
    },
    {
     "data": {
      "application/vnd.jupyter.widget-view+json": {
       "model_id": "480ac9da35f04cf9b90c96b22cf7ddce",
       "version_major": 2,
       "version_minor": 0
      },
      "text/plain": [
       "Test:   0%|          | 0/157 [00:00<?, ?it/s]"
      ]
     },
     "metadata": {},
     "output_type": "display_data"
    },
    {
     "name": "stdout",
     "output_type": "stream",
     "text": [
      "\n",
      "Epoch    14\n",
      "Train_cost  = 0.2485 | Test_cost  = 0.3197 | Train_score = 0.9062 | Test_score = 0.8844 |\n",
      "\u001b[31m==> EarlyStop patience =  1 | Best test_score: 0.8861\u001b[0m\n"
     ]
    },
    {
     "data": {
      "application/vnd.jupyter.widget-view+json": {
       "model_id": "b5f7e1cfc5c7426f9ce20648aa126918",
       "version_major": 2,
       "version_minor": 0
      },
      "text/plain": [
       "Train:   0%|          | 0/313 [00:00<?, ?it/s]"
      ]
     },
     "metadata": {},
     "output_type": "display_data"
    },
    {
     "data": {
      "application/vnd.jupyter.widget-view+json": {
       "model_id": "01aaafde309e48098768b6b166a7ff78",
       "version_major": 2,
       "version_minor": 0
      },
      "text/plain": [
       "Test:   0%|          | 0/157 [00:00<?, ?it/s]"
      ]
     },
     "metadata": {},
     "output_type": "display_data"
    },
    {
     "name": "stdout",
     "output_type": "stream",
     "text": [
      "\n",
      "Epoch    15\n",
      "Train_cost  = 0.2433 | Test_cost  = 0.3030 | Train_score = 0.9104 | Test_score = 0.8922 |\n"
     ]
    },
    {
     "data": {
      "application/vnd.jupyter.widget-view+json": {
       "model_id": "3227db3618074656ad6af2d8c51bfb74",
       "version_major": 2,
       "version_minor": 0
      },
      "text/plain": [
       "Train:   0%|          | 0/313 [00:00<?, ?it/s]"
      ]
     },
     "metadata": {},
     "output_type": "display_data"
    },
    {
     "data": {
      "application/vnd.jupyter.widget-view+json": {
       "model_id": "58140ee83829499883a2e1cc898e69bd",
       "version_major": 2,
       "version_minor": 0
      },
      "text/plain": [
       "Test:   0%|          | 0/157 [00:00<?, ?it/s]"
      ]
     },
     "metadata": {},
     "output_type": "display_data"
    },
    {
     "name": "stdout",
     "output_type": "stream",
     "text": [
      "\n",
      "Epoch    16\n",
      "Train_cost  = 0.2327 | Test_cost  = 0.3124 | Train_score = 0.9133 | Test_score = 0.8901 |\n",
      "\u001b[31m==> EarlyStop patience =  1 | Best test_score: 0.8922\u001b[0m\n"
     ]
    },
    {
     "data": {
      "application/vnd.jupyter.widget-view+json": {
       "model_id": "bde231c73f5943ed97c1299f53e6176f",
       "version_major": 2,
       "version_minor": 0
      },
      "text/plain": [
       "Train:   0%|          | 0/313 [00:00<?, ?it/s]"
      ]
     },
     "metadata": {},
     "output_type": "display_data"
    },
    {
     "data": {
      "application/vnd.jupyter.widget-view+json": {
       "model_id": "1f265de45609489e8e171802a8825932",
       "version_major": 2,
       "version_minor": 0
      },
      "text/plain": [
       "Test:   0%|          | 0/157 [00:00<?, ?it/s]"
      ]
     },
     "metadata": {},
     "output_type": "display_data"
    },
    {
     "name": "stdout",
     "output_type": "stream",
     "text": [
      "\n",
      "Epoch    17\n",
      "Train_cost  = 0.2293 | Test_cost  = 0.3050 | Train_score = 0.9125 | Test_score = 0.8929 |\n"
     ]
    },
    {
     "data": {
      "application/vnd.jupyter.widget-view+json": {
       "model_id": "3c5197de3ed440d1a27aeede91de08c1",
       "version_major": 2,
       "version_minor": 0
      },
      "text/plain": [
       "Train:   0%|          | 0/313 [00:00<?, ?it/s]"
      ]
     },
     "metadata": {},
     "output_type": "display_data"
    },
    {
     "data": {
      "application/vnd.jupyter.widget-view+json": {
       "model_id": "944762a4a16c4df7b07f4f518f3d9b71",
       "version_major": 2,
       "version_minor": 0
      },
      "text/plain": [
       "Test:   0%|          | 0/157 [00:00<?, ?it/s]"
      ]
     },
     "metadata": {},
     "output_type": "display_data"
    },
    {
     "name": "stdout",
     "output_type": "stream",
     "text": [
      "\n",
      "Epoch    18\n",
      "Train_cost  = 0.2275 | Test_cost  = 0.2993 | Train_score = 0.9129 | Test_score = 0.8942 |\n"
     ]
    },
    {
     "data": {
      "application/vnd.jupyter.widget-view+json": {
       "model_id": "ef6ee1002e924442ae563b3195d780ec",
       "version_major": 2,
       "version_minor": 0
      },
      "text/plain": [
       "Train:   0%|          | 0/313 [00:00<?, ?it/s]"
      ]
     },
     "metadata": {},
     "output_type": "display_data"
    },
    {
     "data": {
      "application/vnd.jupyter.widget-view+json": {
       "model_id": "0354f697d6a04eb2b11bc6771827d650",
       "version_major": 2,
       "version_minor": 0
      },
      "text/plain": [
       "Test:   0%|          | 0/157 [00:00<?, ?it/s]"
      ]
     },
     "metadata": {},
     "output_type": "display_data"
    },
    {
     "name": "stdout",
     "output_type": "stream",
     "text": [
      "\n",
      "Epoch    19\n",
      "Train_cost  = 0.2257 | Test_cost  = 0.3108 | Train_score = 0.9148 | Test_score = 0.8927 |\n",
      "\u001b[31m==> EarlyStop patience =  1 | Best test_score: 0.8942\u001b[0m\n"
     ]
    },
    {
     "data": {
      "application/vnd.jupyter.widget-view+json": {
       "model_id": "8db4314d9012453784a660e3a0d92b85",
       "version_major": 2,
       "version_minor": 0
      },
      "text/plain": [
       "Train:   0%|          | 0/313 [00:00<?, ?it/s]"
      ]
     },
     "metadata": {},
     "output_type": "display_data"
    },
    {
     "data": {
      "application/vnd.jupyter.widget-view+json": {
       "model_id": "98835d4b62a0424189419fc00673defe",
       "version_major": 2,
       "version_minor": 0
      },
      "text/plain": [
       "Test:   0%|          | 0/157 [00:00<?, ?it/s]"
      ]
     },
     "metadata": {},
     "output_type": "display_data"
    },
    {
     "name": "stdout",
     "output_type": "stream",
     "text": [
      "\n",
      "Epoch    20\n",
      "Train_cost  = 0.2143 | Test_cost  = 0.3122 | Train_score = 0.9189 | Test_score = 0.8927 |\n"
     ]
    },
    {
     "data": {
      "image/png": "[encoded data removed]",
      "text/plain": [
       "<Figure size 576x360 with 1 Axes>"
      ]
     },
     "metadata": {
      "needs_background": "light"
     },
     "output_type": "display_data"
    },
    {
     "data": {
      "image/png": "[encoded data removed]",
      "text/plain": [
       "<Figure size 576x360 with 1 Axes>"
      ]
     },
     "metadata": {
      "needs_background": "light"
     },
     "output_type": "display_data"
    },
    {
     "name": "stdout",
     "output_type": "stream",
     "text": [
      "\u001b[31m==> EarlyStop patience =  2 | Best test_score: 0.8942\u001b[0m\n"
     ]
    },
    {
     "data": {
      "application/vnd.jupyter.widget-view+json": {
       "model_id": "129e85d87e084a8497372a514db55313",
       "version_major": 2,
       "version_minor": 0
      },
      "text/plain": [
       "Train:   0%|          | 0/313 [00:00<?, ?it/s]"
      ]
     },
     "metadata": {},
     "output_type": "display_data"
    },
    {
     "data": {
      "application/vnd.jupyter.widget-view+json": {
       "model_id": "e54c8660e01746f9b9d20e57704f3b5b",
       "version_major": 2,
       "version_minor": 0
      },
      "text/plain": [
       "Test:   0%|          | 0/157 [00:00<?, ?it/s]"
      ]
     },
     "metadata": {},
     "output_type": "display_data"
    },
    {
     "name": "stdout",
     "output_type": "stream",
     "text": [
      "\n",
      "Epoch    21\n",
      "Train_cost  = 0.2123 | Test_cost  = 0.3224 | Train_score = 0.9201 | Test_score = 0.8891 |\n",
      "\u001b[31m==> EarlyStop patience =  3 | Best test_score: 0.8942\u001b[0m\n"
     ]
    },
    {
     "data": {
      "application/vnd.jupyter.widget-view+json": {
       "model_id": "6a040206abb044b883790c20f7150152",
       "version_major": 2,
       "version_minor": 0
      },
      "text/plain": [
       "Train:   0%|          | 0/313 [00:00<?, ?it/s]"
      ]
     },
     "metadata": {},
     "output_type": "display_data"
    },
    {
     "data": {
      "application/vnd.jupyter.widget-view+json": {
       "model_id": "272a9d58d7cb4313b2a340636b2e32c7",
       "version_major": 2,
       "version_minor": 0
      },
      "text/plain": [
       "Test:   0%|          | 0/157 [00:00<?, ?it/s]"
      ]
     },
     "metadata": {},
     "output_type": "display_data"
    },
    {
     "name": "stdout",
     "output_type": "stream",
     "text": [
      "\n",
      "Epoch    22\n",
      "Train_cost  = 0.2053 | Test_cost  = 0.3010 | Train_score = 0.9211 | Test_score = 0.8953 |\n"
     ]
    },
    {
     "data": {
      "application/vnd.jupyter.widget-view+json": {
       "model_id": "e4b19cde56af41f68069eb18cec5b160",
       "version_major": 2,
       "version_minor": 0
      },
      "text/plain": [
       "Train:   0%|          | 0/313 [00:00<?, ?it/s]"
      ]
     },
     "metadata": {},
     "output_type": "display_data"
    },
    {
     "data": {
      "application/vnd.jupyter.widget-view+json": {
       "model_id": "65e99a497de74e24879abb6a5f16b188",
       "version_major": 2,
       "version_minor": 0
      },
      "text/plain": [
       "Test:   0%|          | 0/157 [00:00<?, ?it/s]"
      ]
     },
     "metadata": {},
     "output_type": "display_data"
    },
    {
     "name": "stdout",
     "output_type": "stream",
     "text": [
      "\n",
      "Epoch    23\n",
      "Train_cost  = 0.2034 | Test_cost  = 0.3060 | Train_score = 0.9232 | Test_score = 0.8929 |\n",
      "\u001b[31m==> EarlyStop patience =  1 | Best test_score: 0.8953\u001b[0m\n"
     ]
    },
    {
     "data": {
      "application/vnd.jupyter.widget-view+json": {
       "model_id": "3941093c90fe4c8d85fd033d454bbca3",
       "version_major": 2,
       "version_minor": 0
      },
      "text/plain": [
       "Train:   0%|          | 0/313 [00:00<?, ?it/s]"
      ]
     },
     "metadata": {},
     "output_type": "display_data"
    },
    {
     "data": {
      "application/vnd.jupyter.widget-view+json": {
       "model_id": "46a5b634f79f46fa966f16fd3665fa51",
       "version_major": 2,
       "version_minor": 0
      },
      "text/plain": [
       "Test:   0%|          | 0/157 [00:00<?, ?it/s]"
      ]
     },
     "metadata": {},
     "output_type": "display_data"
    },
    {
     "name": "stdout",
     "output_type": "stream",
     "text": [
      "\n",
      "Epoch    24\n",
      "Train_cost  = 0.1990 | Test_cost  = 0.3208 | Train_score = 0.9255 | Test_score = 0.8914 |\n",
      "\u001b[31m==> EarlyStop patience =  2 | Best test_score: 0.8953\u001b[0m\n"
     ]
    },
    {
     "data": {
      "application/vnd.jupyter.widget-view+json": {
       "model_id": "4db740ae79c248c0bb007d458427ea11",
       "version_major": 2,
       "version_minor": 0
      },
      "text/plain": [
       "Train:   0%|          | 0/313 [00:00<?, ?it/s]"
      ]
     },
     "metadata": {},
     "output_type": "display_data"
    },
    {
     "data": {
      "application/vnd.jupyter.widget-view+json": {
       "model_id": "f3684d40c5dc40779cd0d49c02893c22",
       "version_major": 2,
       "version_minor": 0
      },
      "text/plain": [
       "Test:   0%|          | 0/157 [00:00<?, ?it/s]"
      ]
     },
     "metadata": {},
     "output_type": "display_data"
    },
    {
     "name": "stdout",
     "output_type": "stream",
     "text": [
      "\n",
      "Epoch    25\n",
      "Train_cost  = 0.1935 | Test_cost  = 0.3259 | Train_score = 0.9264 | Test_score = 0.8912 |\n",
      "\u001b[31m==> EarlyStop patience =  3 | Best test_score: 0.8953\u001b[0m\n"
     ]
    },
    {
     "data": {
      "application/vnd.jupyter.widget-view+json": {
       "model_id": "d4e4a47b097b49d891f530983ba5594b",
       "version_major": 2,
       "version_minor": 0
      },
      "text/plain": [
       "Train:   0%|          | 0/313 [00:00<?, ?it/s]"
      ]
     },
     "metadata": {},
     "output_type": "display_data"
    },
    {
     "data": {
      "application/vnd.jupyter.widget-view+json": {
       "model_id": "8c31f0ffaf6745c698c1f2fe91f8f4e8",
       "version_major": 2,
       "version_minor": 0
      },
      "text/plain": [
       "Test:   0%|          | 0/157 [00:00<?, ?it/s]"
      ]
     },
     "metadata": {},
     "output_type": "display_data"
    },
    {
     "name": "stdout",
     "output_type": "stream",
     "text": [
      "\n",
      "Epoch    26\n",
      "Train_cost  = 0.1897 | Test_cost  = 0.3173 | Train_score = 0.9284 | Test_score = 0.8942 |\n",
      "\u001b[31m==> EarlyStop patience =  4 | Best test_score: 0.8953\u001b[0m\n"
     ]
    },
    {
     "data": {
      "application/vnd.jupyter.widget-view+json": {
       "model_id": "9074d85f3e934516a615a643523ecb9e",
       "version_major": 2,
       "version_minor": 0
      },
      "text/plain": [
       "Train:   0%|          | 0/313 [00:00<?, ?it/s]"
      ]
     },
     "metadata": {},
     "output_type": "display_data"
    },
    {
     "data": {
      "application/vnd.jupyter.widget-view+json": {
       "model_id": "2f72858c4d6348cfb7179f071f41748d",
       "version_major": 2,
       "version_minor": 0
      },
      "text/plain": [
       "Test:   0%|          | 0/157 [00:00<?, ?it/s]"
      ]
     },
     "metadata": {},
     "output_type": "display_data"
    },
    {
     "name": "stdout",
     "output_type": "stream",
     "text": [
      "\n",
      "Epoch    27\n",
      "Train_cost  = 0.1901 | Test_cost  = 0.3100 | Train_score = 0.9280 | Test_score = 0.8934 |\n",
      "\u001b[31m==> EarlyStop patience =  5 | Best test_score: 0.8953\u001b[0m\n",
      "\u001b[31m==> Execute Early Stopping at epoch: 27 | Best test_score: 0.8953\u001b[0m\n",
      "\u001b[31m==> Best model is saved at model\u001b[0m\n"
     ]
    },
    {
     "data": {
      "image/png": "[encoded data removed]",
      "text/plain": [
       "<Figure size 576x360 with 1 Axes>"
      ]
     },
     "metadata": {
      "needs_background": "light"
     },
     "output_type": "display_data"
    },
    {
     "data": {
      "image/png": "[encoded data removed]",
      "text/plain": [
       "<Figure size 576x360 with 1 Axes>"
      ]
     },
     "metadata": {
      "needs_background": "light"
     },
     "output_type": "display_data"
    }
   ],
   "source": [
    "while True:\n",
    "    train_cost, train_score = loop_fn('train', train_set, trainloader, model, criterion, optimizer, device)\n",
    "    \n",
    "    with torch.no_grad():\n",
    "        test_cost, test_score = loop_fn('test', test_set, testloader, model, criterion, optimizer, device)\n",
    "        \n",
    "    #Logging\n",
    "    callback.log(train_cost, test_cost, train_score, test_score)\n",
    "    \n",
    "    #Checkpoint\n",
    "    callback.save_checkpoint()\n",
    "    \n",
    "    #Runtime Plotting\n",
    "    callback.cost_runtime_plotting()\n",
    "    callback.score_runtime_plotting()\n",
    "    \n",
    "    #Early Stopping\n",
    "    if callback.early_stopping(model, monitor='test_score'):\n",
    "        callback.plot_cost()\n",
    "        callback.plot_score()\n",
    "        break"
   ]
  },
  {
   "cell_type": "markdown",
   "id": "7a6d2b93",
   "metadata": {},
   "source": [
    "# 5. Prediction"
   ]
  },
  {
   "cell_type": "code",
   "execution_count": 14,
   "id": "9eefc9f4",
   "metadata": {},
   "outputs": [
    {
     "data": {
      "text/plain": [
       "FashionClassifier(\n",
       "  (fc): Sequential(\n",
       "    (0): Flatten(start_dim=1, end_dim=-1)\n",
       "    (1): Sequential(\n",
       "      (0): Linear(in_features=784, out_features=784, bias=True)\n",
       "      (1): ReLU()\n",
       "      (2): Dropout(p=0.2, inplace=False)\n",
       "    )\n",
       "    (2): Sequential(\n",
       "      (0): Linear(in_features=784, out_features=256, bias=True)\n",
       "      (1): ReLU()\n",
       "      (2): Dropout(p=0.2, inplace=False)\n",
       "    )\n",
       "    (3): Sequential(\n",
       "      (0): Linear(in_features=256, out_features=64, bias=True)\n",
       "      (1): LogSoftmax(dim=1)\n",
       "    )\n",
       "  )\n",
       ")"
      ]
     },
     "execution_count": 14,
     "metadata": {},
     "output_type": "execute_result"
    }
   ],
   "source": [
    "#LOAD MODEL\n",
    "\n",
    "model"
   ]
  },
  {
   "cell_type": "code",
   "execution_count": 15,
   "id": "4b4626e1",
   "metadata": {},
   "outputs": [],
   "source": [
    "feature, target = next(iter(testloader))\n",
    "feature, target = feature.to(device), target.to(device)"
   ]
  },
  {
   "cell_type": "code",
   "execution_count": 16,
   "id": "3ff45fd5",
   "metadata": {},
   "outputs": [
    {
     "data": {
      "text/plain": [
       "['Dress',\n",
       " 'Coat',\n",
       " 'Bag',\n",
       " 'Trouser',\n",
       " 'Bag',\n",
       " 'Shirt',\n",
       " 'Pullover',\n",
       " 'Pullover',\n",
       " 'Ankle boot',\n",
       " 'Coat',\n",
       " 'Bag',\n",
       " 'Trouser',\n",
       " 'Sandal',\n",
       " 'Sneaker',\n",
       " 'Shirt',\n",
       " 'Dress',\n",
       " 'Coat',\n",
       " 'Dress',\n",
       " 'Bag',\n",
       " 'Sneaker',\n",
       " 'Ankle boot',\n",
       " 'T-shirt or Top',\n",
       " 'Shirt',\n",
       " 'Ankle boot',\n",
       " 'Dress',\n",
       " 'Coat',\n",
       " 'T-shirt or Top',\n",
       " 'Sandal',\n",
       " 'Coat',\n",
       " 'Sandal',\n",
       " 'Dress',\n",
       " 'Trouser',\n",
       " 'Trouser',\n",
       " 'Trouser',\n",
       " 'Bag',\n",
       " 'Shirt',\n",
       " 'Coat',\n",
       " 'Coat',\n",
       " 'Pullover',\n",
       " 'Sneaker',\n",
       " 'Sneaker',\n",
       " 'Coat',\n",
       " 'Bag',\n",
       " 'Ankle boot',\n",
       " 'Trouser',\n",
       " 'Dress',\n",
       " 'Sneaker',\n",
       " 'Trouser',\n",
       " 'Sneaker',\n",
       " 'Dress',\n",
       " 'T-shirt or Top',\n",
       " 'Dress',\n",
       " 'Ankle boot',\n",
       " 'Pullover',\n",
       " 'Trouser',\n",
       " 'T-shirt or Top',\n",
       " 'Shirt',\n",
       " 'Dress',\n",
       " 'Coat',\n",
       " 'Shirt',\n",
       " 'Dress',\n",
       " 'Sneaker',\n",
       " 'Ankle boot',\n",
       " 'Coat',\n",
       " 'Shirt',\n",
       " 'Sneaker',\n",
       " 'Trouser',\n",
       " 'Bag',\n",
       " 'Dress',\n",
       " 'Dress',\n",
       " 'Shirt',\n",
       " 'Pullover',\n",
       " 'Pullover',\n",
       " 'Pullover',\n",
       " 'Dress',\n",
       " 'Dress',\n",
       " 'Coat',\n",
       " 'Sneaker',\n",
       " 'T-shirt or Top',\n",
       " 'T-shirt or Top',\n",
       " 'Bag',\n",
       " 'Shirt',\n",
       " 'T-shirt or Top',\n",
       " 'Trouser',\n",
       " 'Shirt',\n",
       " 'Dress',\n",
       " 'Dress',\n",
       " 'Sandal',\n",
       " 'Pullover',\n",
       " 'Trouser',\n",
       " 'Trouser',\n",
       " 'Bag',\n",
       " 'Ankle boot',\n",
       " 'T-shirt or Top',\n",
       " 'Ankle boot',\n",
       " 'Sneaker',\n",
       " 'Bag',\n",
       " 'Sneaker',\n",
       " 'Sneaker',\n",
       " 'T-shirt or Top',\n",
       " 'T-shirt or Top',\n",
       " 'Bag',\n",
       " 'Pullover',\n",
       " 'Coat',\n",
       " 'Coat',\n",
       " 'Coat',\n",
       " 'Shirt',\n",
       " 'Ankle boot',\n",
       " 'Bag',\n",
       " 'Bag',\n",
       " 'T-shirt or Top',\n",
       " 'Shirt',\n",
       " 'Sneaker',\n",
       " 'Sandal',\n",
       " 'Sandal',\n",
       " 'Shirt',\n",
       " 'Sandal',\n",
       " 'Dress',\n",
       " 'Coat',\n",
       " 'Bag',\n",
       " 'Coat',\n",
       " 'Sandal',\n",
       " 'Dress',\n",
       " 'Sneaker',\n",
       " 'T-shirt or Top',\n",
       " 'Ankle boot',\n",
       " 'Coat',\n",
       " 'Bag']"
      ]
     },
     "execution_count": 16,
     "metadata": {},
     "output_type": "execute_result"
    }
   ],
   "source": [
    "#Prediksi cepat\n",
    "\n",
    "with torch.no_grad():\n",
    "    model.eval()\n",
    "    output = model(feature)\n",
    "    preds = output.argmax(1)\n",
    "    \n",
    "[label2cat[preds] for preds in preds]"
   ]
  },
  {
   "cell_type": "markdown",
   "id": "86e2e6ea",
   "metadata": {},
   "source": [
    "# 6. Visulaization"
   ]
  },
  {
   "cell_type": "code",
   "execution_count": 17,
   "id": "2779eda9",
   "metadata": {},
   "outputs": [],
   "source": [
    "import matplotlib.pyplot as plt"
   ]
  },
  {
   "cell_type": "code",
   "execution_count": 18,
   "id": "325b60cc",
   "metadata": {},
   "outputs": [
    {
     "data": {
      "image/png": "[encoded data removed]",
      "text/plain": [
       "<Figure size 1728x1728 with 36 Axes>"
      ]
     },
     "metadata": {
      "needs_background": "light"
     },
     "output_type": "display_data"
    }
   ],
   "source": [
    "fig, axes = plt.subplots(6, 6, figsize = (24, 24))\n",
    "\n",
    "for img, label, pred, ax in zip(feature, target, preds, axes.flatten()): #membubat datanya menjadi flat terlebih dahulu\n",
    "    ax.imshow(img.view(28, 28).cpu(), cmap = 'gray') #mengatur jumlah image (28 x 28 sesuai di shapenya) dan warna\n",
    "    font = {'color':'r'} if label != pred else {'color': 'g'} #mengatur kondisi warna jika true atau false\n",
    "    label, pred = label2cat[label.item()], label2cat[pred.item()] #membuat hasil antara label (target) dan prediksinya (pred)\n",
    "    ax.set_title(f'label: {label} | Pred: {pred}', fontdict = font); #memberi pernak-pernik judul dan labelnya\n",
    "    ax.axis ('off');            "
   ]
  }
 ],
 "metadata": {
  "kernelspec": {
   "display_name": "Python 3 (ipykernel)",
   "language": "python",
   "name": "python3"
  },
  "language_info": {
   "codemirror_mode": {
    "name": "ipython",
    "version": 3
   },
   "file_extension": ".py",
   "mimetype": "text/x-python",
   "name": "python",
   "nbconvert_exporter": "python",
   "pygments_lexer": "ipython3",
   "version": "3.9.7"
  },
  "varInspector": {
   "cols": {
    "lenName": 16,
    "lenType": 16,
    "lenVar": 40
   },
   "kernels_config": {
    "python": {
     "delete_cmd_postfix": "",
     "delete_cmd_prefix": "del ",
     "library": "var_list.py",
     "varRefreshCmd": "print(var_dic_list())"
    },
    "r": {
     "delete_cmd_postfix": ") ",
     "delete_cmd_prefix": "rm(",
     "library": "var_list.r",
     "varRefreshCmd": "cat(var_dic_list()) "
    }
   },
   "types_to_exclude": [
    "module",
    "function",
    "builtin_function_or_method",
    "instance",
    "_Feature"
   ],
   "window_display": false
  }
 },
 "nbformat": 4,
 "nbformat_minor": 5
}
